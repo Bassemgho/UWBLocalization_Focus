{
 "cells": [
  {
   "cell_type": "code",
   "execution_count": 62,
   "id": "4117211e",
   "metadata": {},
   "outputs": [],
   "source": [
    "import numpy as np\n",
    "import matplotlib.pyplot as plt\n",
    "import pandas as pd\n",
    "from pandas import read_csv\n",
    "import math\n",
    "from keras.models import Sequential\n",
    "from keras.layers import Dense\n",
    "from keras.layers import LSTM\n",
    "from sklearn.preprocessing import MinMaxScaler\n",
    "from sklearn.metrics import mean_squared_error\n",
    "from keras.layers.core import Dense, Activation, Dropout\n",
    "import time #helper libraries"
   ]
  },
  {
   "cell_type": "code",
   "execution_count": 4,
   "id": "fe792eb4",
   "metadata": {},
   "outputs": [],
   "source": [
    "def create_dataset(dataset, look_back=1):\n",
    "    dataX, dataY = [], []\n",
    "    for i in range(len(dataset)-look_back-1):\n",
    "        a = dataset[i:(i+look_back), 2:]\n",
    "        dataX.append(a)\n",
    "        dataY.append(dataset[i + look_back, 0:2])\n",
    "    return np.array(dataX), np.array(dataY)"
   ]
  },
  {
   "cell_type": "code",
   "execution_count": 5,
   "id": "eee3582b",
   "metadata": {},
   "outputs": [],
   "source": [
    "input_file=\"database.csv\""
   ]
  },
  {
   "cell_type": "code",
   "execution_count": 6,
   "id": "56dcb88c",
   "metadata": {},
   "outputs": [],
   "source": [
    "df = pd.read_csv(input_file)"
   ]
  },
  {
   "cell_type": "code",
   "execution_count": 7,
   "id": "0265ab73",
   "metadata": {},
   "outputs": [
    {
     "data": {
      "text/html": [
       "<div>\n",
       "<style scoped>\n",
       "    .dataframe tbody tr th:only-of-type {\n",
       "        vertical-align: middle;\n",
       "    }\n",
       "\n",
       "    .dataframe tbody tr th {\n",
       "        vertical-align: top;\n",
       "    }\n",
       "\n",
       "    .dataframe thead th {\n",
       "        text-align: right;\n",
       "    }\n",
       "</style>\n",
       "<table border=\"1\" class=\"dataframe\">\n",
       "  <thead>\n",
       "    <tr style=\"text-align: right;\">\n",
       "      <th></th>\n",
       "      <th>X</th>\n",
       "      <th>Y</th>\n",
       "      <th>timestamp</th>\n",
       "      <th>anch0</th>\n",
       "      <th>anch1</th>\n",
       "      <th>anch2</th>\n",
       "      <th>anch3</th>\n",
       "    </tr>\n",
       "  </thead>\n",
       "  <tbody>\n",
       "    <tr>\n",
       "      <th>0</th>\n",
       "      <td>4.409887</td>\n",
       "      <td>5.438117</td>\n",
       "      <td>142.8</td>\n",
       "      <td>5612.0</td>\n",
       "      <td>1999.0</td>\n",
       "      <td>NaN</td>\n",
       "      <td>4998.0</td>\n",
       "    </tr>\n",
       "    <tr>\n",
       "      <th>1</th>\n",
       "      <td>4.423119</td>\n",
       "      <td>5.441662</td>\n",
       "      <td>142.9</td>\n",
       "      <td>5609.0</td>\n",
       "      <td>2028.0</td>\n",
       "      <td>NaN</td>\n",
       "      <td>4959.0</td>\n",
       "    </tr>\n",
       "    <tr>\n",
       "      <th>2</th>\n",
       "      <td>4.437321</td>\n",
       "      <td>5.445468</td>\n",
       "      <td>143.0</td>\n",
       "      <td>5623.0</td>\n",
       "      <td>2007.0</td>\n",
       "      <td>NaN</td>\n",
       "      <td>5012.0</td>\n",
       "    </tr>\n",
       "    <tr>\n",
       "      <th>3</th>\n",
       "      <td>4.452115</td>\n",
       "      <td>5.449432</td>\n",
       "      <td>143.1</td>\n",
       "      <td>5658.0</td>\n",
       "      <td>2006.0</td>\n",
       "      <td>NaN</td>\n",
       "      <td>4958.0</td>\n",
       "    </tr>\n",
       "    <tr>\n",
       "      <th>4</th>\n",
       "      <td>4.467267</td>\n",
       "      <td>5.453492</td>\n",
       "      <td>143.2</td>\n",
       "      <td>5601.0</td>\n",
       "      <td>1991.0</td>\n",
       "      <td>NaN</td>\n",
       "      <td>5014.0</td>\n",
       "    </tr>\n",
       "    <tr>\n",
       "      <th>5</th>\n",
       "      <td>4.482638</td>\n",
       "      <td>5.457610</td>\n",
       "      <td>143.3</td>\n",
       "      <td>5588.0</td>\n",
       "      <td>1979.0</td>\n",
       "      <td>NaN</td>\n",
       "      <td>5004.0</td>\n",
       "    </tr>\n",
       "    <tr>\n",
       "      <th>6</th>\n",
       "      <td>4.498141</td>\n",
       "      <td>5.461764</td>\n",
       "      <td>143.4</td>\n",
       "      <td>5602.0</td>\n",
       "      <td>2005.0</td>\n",
       "      <td>NaN</td>\n",
       "      <td>5029.0</td>\n",
       "    </tr>\n",
       "    <tr>\n",
       "      <th>7</th>\n",
       "      <td>4.513726</td>\n",
       "      <td>5.465940</td>\n",
       "      <td>143.5</td>\n",
       "      <td>5603.0</td>\n",
       "      <td>2010.0</td>\n",
       "      <td>NaN</td>\n",
       "      <td>5045.0</td>\n",
       "    </tr>\n",
       "    <tr>\n",
       "      <th>8</th>\n",
       "      <td>4.529359</td>\n",
       "      <td>5.470129</td>\n",
       "      <td>143.6</td>\n",
       "      <td>5600.0</td>\n",
       "      <td>2022.0</td>\n",
       "      <td>NaN</td>\n",
       "      <td>5046.0</td>\n",
       "    </tr>\n",
       "    <tr>\n",
       "      <th>9</th>\n",
       "      <td>4.545023</td>\n",
       "      <td>5.474326</td>\n",
       "      <td>143.7</td>\n",
       "      <td>5601.0</td>\n",
       "      <td>1964.0</td>\n",
       "      <td>NaN</td>\n",
       "      <td>5184.0</td>\n",
       "    </tr>\n",
       "    <tr>\n",
       "      <th>10</th>\n",
       "      <td>4.560704</td>\n",
       "      <td>5.478528</td>\n",
       "      <td>143.8</td>\n",
       "      <td>5634.0</td>\n",
       "      <td>1995.0</td>\n",
       "      <td>NaN</td>\n",
       "      <td>5155.0</td>\n",
       "    </tr>\n",
       "    <tr>\n",
       "      <th>11</th>\n",
       "      <td>4.576397</td>\n",
       "      <td>5.482733</td>\n",
       "      <td>143.9</td>\n",
       "      <td>5564.0</td>\n",
       "      <td>1997.0</td>\n",
       "      <td>NaN</td>\n",
       "      <td>5169.0</td>\n",
       "    </tr>\n",
       "    <tr>\n",
       "      <th>12</th>\n",
       "      <td>4.592096</td>\n",
       "      <td>5.486940</td>\n",
       "      <td>144.0</td>\n",
       "      <td>5614.0</td>\n",
       "      <td>2004.0</td>\n",
       "      <td>NaN</td>\n",
       "      <td>5211.0</td>\n",
       "    </tr>\n",
       "    <tr>\n",
       "      <th>13</th>\n",
       "      <td>4.607800</td>\n",
       "      <td>5.491147</td>\n",
       "      <td>144.1</td>\n",
       "      <td>5630.0</td>\n",
       "      <td>1949.0</td>\n",
       "      <td>NaN</td>\n",
       "      <td>5257.0</td>\n",
       "    </tr>\n",
       "    <tr>\n",
       "      <th>14</th>\n",
       "      <td>4.623506</td>\n",
       "      <td>5.495356</td>\n",
       "      <td>144.2</td>\n",
       "      <td>5627.0</td>\n",
       "      <td>1973.0</td>\n",
       "      <td>NaN</td>\n",
       "      <td>5223.0</td>\n",
       "    </tr>\n",
       "  </tbody>\n",
       "</table>\n",
       "</div>"
      ],
      "text/plain": [
       "           X         Y  timestamp   anch0   anch1  anch2   anch3\n",
       "0   4.409887  5.438117      142.8  5612.0  1999.0    NaN  4998.0\n",
       "1   4.423119  5.441662      142.9  5609.0  2028.0    NaN  4959.0\n",
       "2   4.437321  5.445468      143.0  5623.0  2007.0    NaN  5012.0\n",
       "3   4.452115  5.449432      143.1  5658.0  2006.0    NaN  4958.0\n",
       "4   4.467267  5.453492      143.2  5601.0  1991.0    NaN  5014.0\n",
       "5   4.482638  5.457610      143.3  5588.0  1979.0    NaN  5004.0\n",
       "6   4.498141  5.461764      143.4  5602.0  2005.0    NaN  5029.0\n",
       "7   4.513726  5.465940      143.5  5603.0  2010.0    NaN  5045.0\n",
       "8   4.529359  5.470129      143.6  5600.0  2022.0    NaN  5046.0\n",
       "9   4.545023  5.474326      143.7  5601.0  1964.0    NaN  5184.0\n",
       "10  4.560704  5.478528      143.8  5634.0  1995.0    NaN  5155.0\n",
       "11  4.576397  5.482733      143.9  5564.0  1997.0    NaN  5169.0\n",
       "12  4.592096  5.486940      144.0  5614.0  2004.0    NaN  5211.0\n",
       "13  4.607800  5.491147      144.1  5630.0  1949.0    NaN  5257.0\n",
       "14  4.623506  5.495356      144.2  5627.0  1973.0    NaN  5223.0"
      ]
     },
     "execution_count": 7,
     "metadata": {},
     "output_type": "execute_result"
    }
   ],
   "source": [
    "df.head(15)\n"
   ]
  },
  {
   "cell_type": "code",
   "execution_count": 24,
   "id": "39ea6c43",
   "metadata": {},
   "outputs": [],
   "source": [
    "\n",
    "dataset = df[[\"X\",\"Y\",\"anch0\",\"anch1\",\"anch2\",\"anch3\"]].fillna(-1).values\n",
    "np.random.seed(5)\n",
    "scaler = MinMaxScaler(feature_range=(0, 1))\n",
    "train_size = int(len(dataset) * 0.8)\n",
    "test_size = len(dataset) - train_size\n",
    "\n",
    "train = dataset[:train_size,:]\n",
    "test  = dataset[train_size:len(dataset),:]\n",
    "train = scaler.fit_transform(train)\n",
    "test = scaler.fit_transform(test)\n"
   ]
  },
  {
   "cell_type": "code",
   "execution_count": 9,
   "id": "ac6da0de",
   "metadata": {},
   "outputs": [],
   "source": [
    "def series_to_supervised(data, n_in=1, n_out=1, dropnan=True):\n",
    "\tn_vars = 1 if type(data) is list else data.shape[1]\n",
    "\tdf = pd.DataFrame(data)\n",
    "\tcols, names = list(), list()\n",
    "\t# input sequence (t-n, ... t-1)\n",
    "\tfor i in range(n_in, 0, -1):\n",
    "\t\tcols.append(df.shift(i))\n",
    "\t\tnames += [('var%d(t-%d)' % (j+1, i)) for j in range(n_vars)]\n",
    "\t# forecast sequence (t, t+1, ... t+n)\n",
    "\tfor i in range(0, n_out):\n",
    "\t\tcols.append(df.shift(-i))\n",
    "\t\tif i == 0:\n",
    "\t\t\tnames += [('var%d(t)' % (j+1)) for j in range(n_vars)]\n",
    "\t\telse:\n",
    "\t\t\tnames += [('var%d(t+%d)' % (j+1, i)) for j in range(n_vars)]\n",
    "\t# put it all together\n",
    "\tagg = pd.concat(cols, axis=1)\n",
    "\tagg.columns = names\n",
    "\t# drop rows with NaN values\n",
    "\tif dropnan:\n",
    "\t\tagg.dropna(inplace=True)\n",
    "\treturn agg"
   ]
  },
  {
   "cell_type": "code",
   "execution_count": 10,
   "id": "7b7e7178",
   "metadata": {},
   "outputs": [],
   "source": [
    "hi = series_to_supervised(dataset,30)\n",
    "l = [\"var{}(t-{})\".format(i,j) for j in range(30,0,-1) for i in range(1,7)]\n",
    "l1 =[]\n",
    "for j in range(30,0,-1):\n",
    "    for i in range(1,7):\n",
    "        if (not(i==1)and not(i==2)):\n",
    "            l1.append(\"var{}(t-{})\".format(i,j))\n",
    "        \n",
    "l1.append(\"var1(t)\")\n",
    "l1.append(\"var2(t)\")\n",
    "l1\n",
    "f=hi[l1]\n",
    "g=f.values.reshape((f.shape[0],1,f.shape[1]),)\n",
    "g.shape\n",
    "\n",
    "datas = f.values\n",
    "train_size = int(len(datas) * 0.8)\n",
    "test_size = len(datas) - train_size\n",
    "scaler = MinMaxScaler(feature_range=(0, 1))\n",
    "train = datas[:train_size,:]\n",
    "test  = datas[train_size:len(datas),:]\n",
    "train = scaler.fit_transform(train)\n",
    "test = scaler.fit_transform(test)\n",
    "trainX,trainY = train[:,:-2],train[:,120:122]\n",
    "testX,testY = test[:,:-2],test[:,120:122]\n"
   ]
  },
  {
   "cell_type": "code",
   "execution_count": 12,
   "id": "587e6669",
   "metadata": {},
   "outputs": [],
   "source": [
    "trainX = trainX.reshape((trainX.shape[0], 1, trainX.shape[1]))\n",
    "testX = testX.reshape((testX.shape[0], 1, testX.shape[1]))\n"
   ]
  },
  {
   "cell_type": "code",
   "execution_count": 25,
   "id": "8cc8ecc7",
   "metadata": {},
   "outputs": [],
   "source": [
    "look_back=30\n",
    "trainX,trainY = create_dataset(train,look_back)\n",
    "testX,testY = create_dataset(test,look_back)"
   ]
  },
  {
   "cell_type": "code",
   "execution_count": 26,
   "id": "83324db0",
   "metadata": {},
   "outputs": [
    {
     "data": {
      "text/plain": [
       "(5940, 30, 4)"
      ]
     },
     "execution_count": 26,
     "metadata": {},
     "output_type": "execute_result"
    }
   ],
   "source": [
    "#t=trainX.reshape((trainX.shape[0],30,4))\n",
    "trainX.shape"
   ]
  },
  {
   "cell_type": "code",
   "execution_count": 27,
   "id": "2c79b541",
   "metadata": {},
   "outputs": [
    {
     "name": "stdout",
     "output_type": "stream",
     "text": [
      "Epoch 1/50\n",
      "168/168 [==============================] - 3s 11ms/step - loss: 0.0469 - val_loss: 0.0327\n",
      "Epoch 2/50\n",
      "168/168 [==============================] - 2s 9ms/step - loss: 0.0176 - val_loss: 0.0139\n",
      "Epoch 3/50\n",
      "168/168 [==============================] - 2s 9ms/step - loss: 0.0104 - val_loss: 0.0089\n",
      "Epoch 4/50\n",
      "168/168 [==============================] - 2s 9ms/step - loss: 0.0083 - val_loss: 0.0079\n",
      "Epoch 5/50\n",
      "168/168 [==============================] - 2s 10ms/step - loss: 0.0067 - val_loss: 0.0053\n",
      "Epoch 6/50\n",
      "168/168 [==============================] - 2s 10ms/step - loss: 0.0058 - val_loss: 0.0039\n",
      "Epoch 7/50\n",
      "168/168 [==============================] - 2s 10ms/step - loss: 0.0054 - val_loss: 0.0052\n",
      "Epoch 8/50\n",
      "168/168 [==============================] - 2s 10ms/step - loss: 0.0047 - val_loss: 0.0035\n",
      "Epoch 9/50\n",
      "168/168 [==============================] - 2s 10ms/step - loss: 0.0045 - val_loss: 0.0038\n",
      "Epoch 10/50\n",
      "168/168 [==============================] - 2s 10ms/step - loss: 0.0043 - val_loss: 0.0050\n",
      "Epoch 11/50\n",
      "168/168 [==============================] - 2s 10ms/step - loss: 0.0041 - val_loss: 0.0038\n",
      "Epoch 12/50\n",
      "168/168 [==============================] - 2s 10ms/step - loss: 0.0037 - val_loss: 0.0034\n",
      "Epoch 13/50\n",
      "168/168 [==============================] - 2s 10ms/step - loss: 0.0036 - val_loss: 0.0024\n",
      "Epoch 14/50\n",
      "168/168 [==============================] - 2s 10ms/step - loss: 0.0035 - val_loss: 0.0028\n",
      "Epoch 15/50\n",
      "168/168 [==============================] - 2s 10ms/step - loss: 0.0033 - val_loss: 0.0033\n",
      "Epoch 16/50\n",
      "168/168 [==============================] - 2s 10ms/step - loss: 0.0032 - val_loss: 0.0026\n",
      "Epoch 17/50\n",
      "168/168 [==============================] - 2s 10ms/step - loss: 0.0029 - val_loss: 0.0030\n",
      "Epoch 18/50\n",
      "168/168 [==============================] - 2s 10ms/step - loss: 0.0028 - val_loss: 0.0025\n",
      "Epoch 19/50\n",
      "168/168 [==============================] - 2s 10ms/step - loss: 0.0028 - val_loss: 0.0028\n",
      "Epoch 20/50\n",
      "168/168 [==============================] - 2s 10ms/step - loss: 0.0032 - val_loss: 0.0033\n",
      "Epoch 21/50\n",
      "168/168 [==============================] - 2s 10ms/step - loss: 0.0023 - val_loss: 0.0021\n",
      "Epoch 22/50\n",
      "168/168 [==============================] - 2s 10ms/step - loss: 0.0024 - val_loss: 0.0051\n",
      "Epoch 23/50\n",
      "168/168 [==============================] - 2s 11ms/step - loss: 0.0023 - val_loss: 0.0023\n",
      "Epoch 24/50\n",
      "168/168 [==============================] - 2s 10ms/step - loss: 0.0022 - val_loss: 0.0025\n",
      "Epoch 25/50\n",
      "168/168 [==============================] - 2s 10ms/step - loss: 0.0021 - val_loss: 0.0032\n",
      "Epoch 26/50\n",
      "168/168 [==============================] - 2s 10ms/step - loss: 0.0020 - val_loss: 0.0023\n",
      "Epoch 27/50\n",
      "168/168 [==============================] - 2s 10ms/step - loss: 0.0020 - val_loss: 0.0022\n",
      "Epoch 28/50\n",
      "168/168 [==============================] - 2s 10ms/step - loss: 0.0019 - val_loss: 0.0025\n",
      "Epoch 29/50\n",
      "168/168 [==============================] - 2s 10ms/step - loss: 0.0017 - val_loss: 0.0026\n",
      "Epoch 30/50\n",
      "168/168 [==============================] - 2s 10ms/step - loss: 0.0020 - val_loss: 0.0027\n",
      "Epoch 31/50\n",
      "168/168 [==============================] - 2s 10ms/step - loss: 0.0017 - val_loss: 0.0023\n",
      "Epoch 32/50\n",
      "168/168 [==============================] - 2s 10ms/step - loss: 0.0017 - val_loss: 0.0024\n",
      "Epoch 33/50\n",
      "168/168 [==============================] - 2s 11ms/step - loss: 0.0016 - val_loss: 0.0023\n",
      "Epoch 34/50\n",
      "168/168 [==============================] - 2s 10ms/step - loss: 0.0015 - val_loss: 0.0021\n",
      "Epoch 35/50\n",
      "168/168 [==============================] - 2s 10ms/step - loss: 0.0017 - val_loss: 0.0028\n",
      "Epoch 36/50\n",
      "168/168 [==============================] - 2s 10ms/step - loss: 0.0015 - val_loss: 0.0017\n",
      "Epoch 37/50\n",
      "168/168 [==============================] - 2s 10ms/step - loss: 0.0015 - val_loss: 0.0016\n",
      "Epoch 38/50\n",
      "168/168 [==============================] - 2s 10ms/step - loss: 0.0014 - val_loss: 0.0020\n",
      "Epoch 39/50\n",
      "168/168 [==============================] - 2s 10ms/step - loss: 0.0014 - val_loss: 0.0022\n",
      "Epoch 40/50\n",
      "168/168 [==============================] - 2s 10ms/step - loss: 0.0013 - val_loss: 0.0024\n",
      "Epoch 41/50\n",
      "168/168 [==============================] - 2s 11ms/step - loss: 0.0013 - val_loss: 0.0025\n",
      "Epoch 42/50\n",
      "168/168 [==============================] - 2s 10ms/step - loss: 0.0012 - val_loss: 0.0025\n",
      "Epoch 43/50\n",
      "168/168 [==============================] - 2s 11ms/step - loss: 0.0013 - val_loss: 0.0020\n",
      "Epoch 44/50\n",
      "168/168 [==============================] - 2s 10ms/step - loss: 0.0013 - val_loss: 0.0017\n",
      "Epoch 45/50\n",
      "168/168 [==============================] - 2s 11ms/step - loss: 0.0012 - val_loss: 0.0025\n",
      "Epoch 46/50\n",
      "168/168 [==============================] - 2s 11ms/step - loss: 0.0012 - val_loss: 0.0018\n",
      "Epoch 47/50\n",
      "168/168 [==============================] - 2s 11ms/step - loss: 0.0011 - val_loss: 0.0021\n",
      "Epoch 48/50\n",
      "168/168 [==============================] - 2s 11ms/step - loss: 0.0011 - val_loss: 0.0019\n",
      "Epoch 49/50\n",
      "168/168 [==============================] - 2s 11ms/step - loss: 0.0011 - val_loss: 0.0017\n",
      "Epoch 50/50\n",
      "168/168 [==============================] - 2s 11ms/step - loss: 0.0010 - val_loss: 0.0022\n"
     ]
    }
   ],
   "source": [
    "model = Sequential()\n",
    "model.add(LSTM(64, input_shape=(trainX.shape[1], trainX.shape[2])))\n",
    "model.add(Dropout(0.1))\n",
    "model.add(Dense(trainY.shape[1]))\n",
    "model.compile(loss='mse', optimizer='adam')\n",
    "history = model.fit(trainX, trainY, epochs=50, batch_size=32,validation_split=0.1, verbose=1)"
   ]
  },
  {
   "cell_type": "code",
   "execution_count": 28,
   "id": "4b470f76",
   "metadata": {},
   "outputs": [
    {
     "data": {
      "text/plain": [
       "[<matplotlib.lines.Line2D at 0x7f823a4d9610>]"
      ]
     },
     "execution_count": 28,
     "metadata": {},
     "output_type": "execute_result"
    },
    {
     "data": {
      "image/png": "[encoded data removed]",
      "text/plain": [
       "<Figure size 432x288 with 1 Axes>"
      ]
     },
     "metadata": {
      "needs_background": "light"
     },
     "output_type": "display_data"
    }
   ],
   "source": [
    "plt.plot(history.history[\"loss\"],label = \"training loss\")\n",
    "plt.plot(history.history[\"val_loss\"],label = \"val training loss\")"
   ]
  },
  {
   "cell_type": "code",
   "execution_count": 61,
   "id": "f9ef5428",
   "metadata": {},
   "outputs": [
    {
     "data": {
      "text/plain": [
       "array([[0.7401575 ],\n",
       "       [0.03722107]], dtype=float32)"
      ]
     },
     "execution_count": 61,
     "metadata": {},
     "output_type": "execute_result"
    }
   ],
   "source": [
    "l = [5361,2436,6748\n",
    ",-1]\n",
    "l\n",
    "a = np.array(l)\n",
    "a = a.reshape((-1,1))\n",
    "b = scaler.fit_transform(a)\n",
    "a = a.reshape(-1,1,4)\n",
    "m = model.predict(a)\n",
    "x = m.reshape((-1,1))\n",
    "x"
   ]
  },
  {
   "cell_type": "code",
   "execution_count": 67,
   "id": "bbbad985",
   "metadata": {},
   "outputs": [],
   "source": [
    "test_size = len(dataset) - train_size"
   ]
  },
  {
   "cell_type": "code",
   "execution_count": 68,
   "id": "0f9d9981",
   "metadata": {},
   "outputs": [
    {
     "data": {
      "text/plain": [
       "487"
      ]
     },
     "execution_count": 68,
     "metadata": {},
     "output_type": "execute_result"
    }
   ],
   "source": [
    "len(dataX)"
   ]
  },
  {
   "cell_type": "code",
   "execution_count": null,
   "id": "72039563",
   "metadata": {},
   "outputs": [],
   "source": []
  }
 ],
 "metadata": {
  "kernelspec": {
   "display_name": "Python 3 (ipykernel)",
   "language": "python",
   "name": "python3"
  },
  "language_info": {
   "codemirror_mode": {
    "name": "ipython",
    "version": 3
   },
   "file_extension": ".py",
   "mimetype": "text/x-python",
   "name": "python",
   "nbconvert_exporter": "python",
   "pygments_lexer": "ipython3",
   "version": "3.8.10"
  }
 },
 "nbformat": 4,
 "nbformat_minor": 5
}
